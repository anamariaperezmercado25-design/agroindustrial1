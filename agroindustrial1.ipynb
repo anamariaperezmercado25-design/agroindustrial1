{
  "nbformat": 4,
  "nbformat_minor": 0,
  "metadata": {
    "colab": {
      "provenance": [],
      "authorship_tag": "ABX9TyPrFAKLWPbC0mciah/eq1VY",
      "include_colab_link": true
    },
    "kernelspec": {
      "name": "python3",
      "display_name": "Python 3"
    },
    "language_info": {
      "name": "python"
    }
  },
  "cells": [
    {
      "cell_type": "markdown",
      "metadata": {
        "id": "view-in-github",
        "colab_type": "text"
      },
      "source": [
        "<a href=\"https://colab.research.google.com/github/anamariaperezmercado25-design/agroindustrial1/blob/main/agroindustrial1.ipynb\" target=\"_parent\"><img src=\"https://colab.research.google.com/assets/colab-badge.svg\" alt=\"Open In Colab\"/></a>"
      ]
    },
    {
      "cell_type": "code",
      "execution_count": null,
      "metadata": {
        "id": "oPXQJ_q60dCL"
      },
      "outputs": [],
      "source": []
    },
    {
      "cell_type": "code",
      "metadata": {
        "id": "7cf1c46d"
      },
      "source": [
        "# Primer ejemplo: Usando variables\n",
        "num1 = 5\n",
        "num2 = 10\n",
        "suma = num1 + num2\n",
        "print(f\"La suma de {num1} y {num2} es: {suma}\")"
      ],
      "execution_count": null,
      "outputs": []
    },
    {
      "cell_type": "code",
      "metadata": {
        "id": "4c06d030"
      },
      "source": [
        "# Segundo ejemplo: Usando input del usuario\n",
        "try:\n",
        "    num1 = float(input(\"Introduce el primer número: \"))\n",
        "    num2 = float(input(\"Introduce el segundo número: \"))\n",
        "    suma = num1 + num2\n",
        "    print(f\"La suma de {num1} y {num2} es: {suma}\")\n",
        "except ValueError:\n",
        "    print(\"Entrada no válida. Por favor, introduce números.\")"
      ],
      "execution_count": null,
      "outputs": []
    }
  ]
}