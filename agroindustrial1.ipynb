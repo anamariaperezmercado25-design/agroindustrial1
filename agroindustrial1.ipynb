{
  "nbformat": 4,
  "nbformat_minor": 0,
  "metadata": {
    "colab": {
      "provenance": [],
      "authorship_tag": "ABX9TyNAe9BVv+E5odiKgZprIeqW",
      "include_colab_link": true
    },
    "kernelspec": {
      "name": "python3",
      "display_name": "Python 3"
    },
    "language_info": {
      "name": "python"
    }
  },
  "cells": [
    {
      "cell_type": "markdown",
      "metadata": {
        "id": "view-in-github",
        "colab_type": "text"
      },
      "source": [
        "<a href=\"https://colab.research.google.com/github/anamariaperezmercado25-design/agroindustrial1/blob/main/agroindustrial1.ipynb\" target=\"_parent\"><img src=\"https://colab.research.google.com/assets/colab-badge.svg\" alt=\"Open In Colab\"/></a>"
      ]
    },
    {
      "cell_type": "code",
      "execution_count": null,
      "metadata": {
        "id": "oPXQJ_q60dCL"
      },
      "outputs": [],
      "source": []
    },
    {
      "cell_type": "code",
      "metadata": {
        "id": "7cf1c46d"
      },
      "source": [
        "# Primer ejemplo: Usando variables\n",
        "num1 = 5\n",
        "num2 = 10\n",
        "suma = num1 + num2\n",
        "print(f\"La suma de {num1} y {num2} es: {suma}\")"
      ],
      "execution_count": null,
      "outputs": []
    },
    {
      "cell_type": "code",
      "metadata": {
        "id": "4c06d030"
      },
      "source": [
        "# Segundo ejemplo: Usando input del usuario\n",
        "try:\n",
        "    num1 = float(input(\"Introduce el primer número: \"))\n",
        "    num2 = float(input(\"Introduce el segundo número: \"))\n",
        "    suma = num1 + num2\n",
        "    print(f\"La suma de {num1} y {num2} es: {suma}\")\n",
        "except ValueError:\n",
        "    print(\"Entrada no válida. Por favor, introduce números.\")"
      ],
      "execution_count": null,
      "outputs": []
    },
    {
      "cell_type": "markdown",
      "metadata": {
        "id": "15cabf3c"
      },
      "source": [
        "Este fragmento de código Python realiza una suma simple utilizando variables predefinidas:\n",
        "\n",
        "*   **`num1 = 5`**: Asigna el valor `5` a la variable `num1`.\n",
        "*   **`num2 = 10`**: Asigna el valor `10` a la variable `num2`.\n",
        "*   **`suma = num1 + num2`**: Suma los valores de `num1` y `num2` y almacena el resultado en la variable `suma`.\n",
        "*   **`print(f\"La suma de {num1} y {num2} es: {suma}\")`**: Imprime en la consola una cadena formateada que muestra los valores de `num1`, `num2` y el resultado de la `suma`. La `f` antes de la cadena indica que es un \"f-string\", lo que permite incluir variables directamente dentro de la cadena usando llaves `{}`."
      ]
    }
  ]
}