{
  "nbformat": 4,
  "nbformat_minor": 0,
  "metadata": {
    "colab": {
      "provenance": [],
      "authorship_tag": "ABX9TyPKXondgCj2VUY9dtW7ZF9S",
      "include_colab_link": true
    },
    "kernelspec": {
      "name": "python3",
      "display_name": "Python 3"
    },
    "language_info": {
      "name": "python"
    }
  },
  "cells": [
    {
      "cell_type": "markdown",
      "metadata": {
        "id": "view-in-github",
        "colab_type": "text"
      },
      "source": [
        "<a href=\"https://colab.research.google.com/github/anamariaperezmercado25-design/agroindustrial1/blob/main/agroindustrial1.ipynb\" target=\"_parent\"><img src=\"https://colab.research.google.com/assets/colab-badge.svg\" alt=\"Open In Colab\"/></a>"
      ]
    },
    {
      "cell_type": "code",
      "execution_count": null,
      "metadata": {
        "id": "oPXQJ_q60dCL"
      },
      "outputs": [],
      "source": []
    },
    {
      "cell_type": "code",
      "metadata": {
        "id": "7cf1c46d"
      },
      "source": [
        "# Primer ejemplo: Usando variables\n",
        "num1 = 5\n",
        "num2 = 10\n",
        "suma = num1 + num2\n",
        "print(f\"La suma de {num1} y {num2} es: {suma}\")"
      ],
      "execution_count": null,
      "outputs": []
    },
    {
      "cell_type": "code",
      "metadata": {
        "id": "4c06d030"
      },
      "source": [
        "# Segundo ejemplo: Usando input del usuario\n",
        "try:\n",
        "    num1 = float(input(\"Introduce el primer número: \"))\n",
        "    num2 = float(input(\"Introduce el segundo número: \"))\n",
        "    suma = num1 + num2\n",
        "    print(f\"La suma de {num1} y {num2} es: {suma}\")\n",
        "except ValueError:\n",
        "    print(\"Entrada no válida. Por favor, introduce números.\")"
      ],
      "execution_count": null,
      "outputs": []
    },
    {
      "cell_type": "markdown",
      "metadata": {
        "id": "15cabf3c"
      },
      "source": [
        "Este fragmento de código Python realiza una suma simple utilizando variables predefinidas:\n",
        "\n",
        "*   **`num1 = 5`**: Asigna el valor `5` a la variable `num1`.\n",
        "*   **`num2 = 10`**: Asigna el valor `10` a la variable `num2`.\n",
        "*   **`suma = num1 + num2`**: Suma los valores de `num1` y `num2` y almacena el resultado en la variable `suma`.\n",
        "*   **`print(f\"La suma de {num1} y {num2} es: {suma}\")`**: Imprime en la consola una cadena formateada que muestra los valores de `num1`, `num2` y el resultado de la `suma`. La `f` antes de la cadena indica que es un \"f-string\", lo que permite incluir variables directamente dentro de la cadena usando llaves `{}`."
      ]
    },
    {
      "cell_type": "code",
      "metadata": {
        "id": "6dc37f3d"
      },
      "source": [
        "# Definimos dos números para las operaciones\n",
        "a = 15\n",
        "b = 5\n",
        "\n",
        "# Suma\n",
        "suma = a + b\n",
        "print(f\"Suma: {a} + {b} = {suma}\")\n",
        "\n",
        "# Resta\n",
        "resta = a - b\n",
        "print(f\"Resta: {a} - {b} = {resta}\")\n",
        "\n",
        "# Multiplicación\n",
        "multiplicacion = a * b\n",
        "print(f\"Multiplicación: {a} * {b} = {multiplicacion}\")\n",
        "\n",
        "# División (flotante)\n",
        "division_flotante = a / b\n",
        "print(f\"División (flotante): {a} / {b} = {division_flotante}\")\n",
        "\n",
        "# División entera\n",
        "division_entera = a // b\n",
        "print(f\"División entera: {a} // {b} = {division_entera}\")\n",
        "\n",
        "# Módulo (resto de la división)\n",
        "modulo = a % b\n",
        "print(f\"Módulo: {a} % {b} = {modulo}\")\n",
        "\n",
        "# Potencia\n",
        "potencia = a ** b\n",
        "print(f\"Potencia: {a} ** {b} = {potencia}\")"
      ],
      "execution_count": null,
      "outputs": []
    },
    {
      "cell_type": "markdown",
      "metadata": {
        "id": "e8dd242e"
      },
      "source": [
        "Aquí tienes una explicación línea por línea del código que realiza operaciones aritméticas:\n",
        "\n",
        "*   `# Definimos dos números para las operaciones`: Este es un comentario que indica el propósito de las siguientes líneas.\n",
        "*   `a = 15`: Asigna el valor `15` a la variable `a`.\n",
        "*   `b = 5`: Asigna el valor `5` a la variable `b`.\n",
        "*   `# Suma`: Comentario que indica la operación de suma.\n",
        "*   `suma = a + b`: Realiza la suma de `a` y `b` y guarda el resultado en la variable `suma`.\n",
        "*   `print(f\"Suma: {a} + {b} = {suma}\")`: Imprime la operación y el resultado de la suma usando un f-string.\n",
        "*   `# Resta`: Comentario que indica la operación de resta.\n",
        "*   `resta = a - b`: Realiza la resta de `a` y `b` y guarda el resultado en la variable `resta`.\n",
        "*   `print(f\"Resta: {a} - {b} = {resta}\")`: Imprime la operación y el resultado de la resta.\n",
        "*   `# Multiplicación`: Comentario que indica la operación de multiplicación.\n",
        "*   `multiplicacion = a * b`: Realiza la multiplicación de `a` y `b` y guarda el resultado en la variable `multiplicacion`.\n",
        "*   `print(f\"Multiplicación: {a} * {b} = {multiplicacion}\")`: Imprime la operación y el resultado de la multiplicación.\n",
        "*   `# División (flotante)`: Comentario que indica la división flotante.\n",
        "*   `division_flotante = a / b`: Realiza la división de `a` entre `b`. El resultado será un número flotante (con decimales).\n",
        "*   `print(f\"División (flotante): {a} / {b} = {division_flotante}\")`: Imprime la operación y el resultado de la división flotante.\n",
        "*   `# División entera`: Comentario que indica la división entera.\n",
        "*   `division_entera = a // b`: Realiza la división de `a` entre `b` y devuelve la parte entera del resultado, descartando los decimales.\n",
        "*   `print(f\"División entera: {a} // {b} = {division_entera}\")`: Imprime la operación y el resultado de la división entera.\n",
        "*   `# Módulo (resto de la división)`: Comentario que indica la operación de módulo.\n",
        "*   `modulo = a % b`: Calcula el resto de la división de `a` entre `b`.\n",
        "*   `print(f\"Módulo: {a} % {b} = {modulo}\")`: Imprime la operación y el resultado del módulo.\n",
        "*   `# Potencia`: Comentario que indica la operación de potencia.\n",
        "*   `potencia = a ** b`: Eleva `a` a la potencia de `b`.\n",
        "*   `print(f\"Potencia: {a} ** {b} = {potencia}\")`: Imprime la operación y el resultado de la potencia."
      ]
    }
  ]
}